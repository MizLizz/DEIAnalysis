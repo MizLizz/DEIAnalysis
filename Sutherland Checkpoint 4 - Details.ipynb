{
 "cells": [
  {
   "cell_type": "code",
   "execution_count": 1,
   "id": "b9838f5d",
   "metadata": {},
   "outputs": [
    {
     "name": "stdout",
     "output_type": "stream",
     "text": [
      "24\n",
      "65\n",
      "38.8316\n"
     ]
    }
   ],
   "source": [
    "import pandas as pd\n",
    "import numpy as np\n",
    "import matplotlib.pyplot as plt\n",
    "import seaborn as sns\n",
    "\n",
    "#Renamed the data set for cleaning. \n",
    "\n",
    "df = pd.read_csv(r\"/Users/Liz/Desktop/Women +/Assignment 4/cleaning-data-checkpoint3/4Clean.csv\")\n",
    "\n",
    "pd.options.display.max_columns = 100\n",
    "df02 = df.drop(['Hobbies','Mobile Number','Email'], axis = 1)\n",
    "\n",
    "print(df02['Age'].min())\n",
    "print(df02['Age'].max())\n",
    "print(df02['Age'].mean())\n",
    "#I'm running this to add some variety to my age/department/gender numbers in addition to the total \n"
   ]
  },
  {
   "cell_type": "code",
   "execution_count": 4,
   "id": "9019a344",
   "metadata": {},
   "outputs": [
    {
     "name": "stdout",
     "output_type": "stream",
     "text": [
      "<class 'pandas.core.frame.DataFrame'>\n",
      "RangeIndex: 10000 entries, 0 to 9999\n",
      "Data columns (total 42 columns):\n",
      " #   Column              Non-Null Count  Dtype \n",
      "---  ------              --------------  ----- \n",
      " 0   Id                  10000 non-null  int64 \n",
      " 1   Name                10000 non-null  object\n",
      " 2   Surname             10000 non-null  object\n",
      " 3   Division            10000 non-null  object\n",
      " 4   Manager             10000 non-null  object\n",
      " 5   Gender              10000 non-null  object\n",
      " 6   Sexual_Orientation  10000 non-null  object\n",
      " 7   LGBTQ               10000 non-null  object\n",
      " 8   Indigenous          10000 non-null  object\n",
      " 9   Ethnicity           10000 non-null  object\n",
      " 10  Disability          10000 non-null  object\n",
      " 11  Minority            10000 non-null  object\n",
      " 12  Veteran             10000 non-null  object\n",
      " 13  Date of Birth       10000 non-null  object\n",
      " 14  Age                 10000 non-null  int64 \n",
      " 15  Preferred Name      10000 non-null  object\n",
      " 16  Nationality         10000 non-null  object\n",
      " 17  Pronouns            10000 non-null  object\n",
      " 18  Aug_D_Q1            10000 non-null  int64 \n",
      " 19  Aug_D_Q2            10000 non-null  int64 \n",
      " 20  Aug_D_Q3            10000 non-null  int64 \n",
      " 21  Aug_D_Q4            10000 non-null  int64 \n",
      " 22  Aug_D_Q5            10000 non-null  int64 \n",
      " 23  D_Negative          10000 non-null  int64 \n",
      " 24  D_Neutral           10000 non-null  int64 \n",
      " 25  D_Positive          10000 non-null  int64 \n",
      " 26  Aug_E_Q1            10000 non-null  int64 \n",
      " 27  Aug_E_Q2            10000 non-null  int64 \n",
      " 28  Aug_E_Q3            10000 non-null  int64 \n",
      " 29  Aug_E_Q4            10000 non-null  int64 \n",
      " 30  Aug_E_Q5            10000 non-null  int64 \n",
      " 31  E_Negative          10000 non-null  int64 \n",
      " 32  E_Neutral           10000 non-null  int64 \n",
      " 33  E_Positive          10000 non-null  int64 \n",
      " 34  Aug_I_Q1            10000 non-null  int64 \n",
      " 35  Aug_I_Q2            10000 non-null  int64 \n",
      " 36  Aug_I_Q3            10000 non-null  int64 \n",
      " 37  Aug_I_Q4            10000 non-null  int64 \n",
      " 38  Aug_I_Q5            10000 non-null  int64 \n",
      " 39  I_Negative          10000 non-null  int64 \n",
      " 40  I_Neutral           10000 non-null  int64 \n",
      " 41  I_Positive          10000 non-null  int64 \n",
      "dtypes: int64(26), object(16)\n",
      "memory usage: 3.2+ MB\n",
      "None\n"
     ]
    }
   ],
   "source": [
    "print (df02.info())"
   ]
  },
  {
   "cell_type": "code",
   "execution_count": 5,
   "id": "8766daa3",
   "metadata": {},
   "outputs": [
    {
     "data": {
      "text/plain": [
       "No                   81.77\n",
       "Yes                  11.75\n",
       "Prefer not to say     6.48\n",
       "Name: LGBTQ, dtype: float64"
      ]
     },
     "execution_count": 5,
     "metadata": {},
     "output_type": "execute_result"
    }
   ],
   "source": [
    "df02['LGBTQ'].value_counts(normalize=True)*100"
   ]
  },
  {
   "cell_type": "code",
   "execution_count": 6,
   "id": "f1e68713",
   "metadata": {},
   "outputs": [
    {
     "data": {
      "text/plain": [
       "No                   94.23\n",
       "Yes                   4.94\n",
       "Prefer not to say     0.83\n",
       "Name: Indigenous, dtype: float64"
      ]
     },
     "execution_count": 6,
     "metadata": {},
     "output_type": "execute_result"
    }
   ],
   "source": [
    "df02['Indigenous'].value_counts(normalize=True)*100"
   ]
  },
  {
   "cell_type": "code",
   "execution_count": 7,
   "id": "8f8fb9c4",
   "metadata": {},
   "outputs": [
    {
     "data": {
      "text/plain": [
       "White                70.92\n",
       "Asian                17.18\n",
       "Black                 4.16\n",
       "Middle Eastern        3.52\n",
       "Latin                 2.09\n",
       "Prefer not to say     1.08\n",
       "Other                 1.05\n",
       "Name: Ethnicity, dtype: float64"
      ]
     },
     "execution_count": 7,
     "metadata": {},
     "output_type": "execute_result"
    }
   ],
   "source": [
    "df02['Ethnicity'].value_counts(normalize=True)*100"
   ]
  },
  {
   "cell_type": "code",
   "execution_count": 8,
   "id": "dae8e077",
   "metadata": {},
   "outputs": [
    {
     "data": {
      "text/plain": [
       "No                   81.71\n",
       "Yes                  15.45\n",
       "Prefer not to say     2.84\n",
       "Name: Disability, dtype: float64"
      ]
     },
     "execution_count": 8,
     "metadata": {},
     "output_type": "execute_result"
    }
   ],
   "source": [
    "df02['Disability'].value_counts(normalize=True)*100"
   ]
  },
  {
   "cell_type": "code",
   "execution_count": 10,
   "id": "1a7db957",
   "metadata": {},
   "outputs": [
    {
     "data": {
      "text/plain": [
       "No                   98.10\n",
       "Prefer not to say     0.97\n",
       "Yes                   0.93\n",
       "Name: Veteran, dtype: float64"
      ]
     },
     "execution_count": 10,
     "metadata": {},
     "output_type": "execute_result"
    }
   ],
   "source": [
    "df02['Minority'].value_counts(normalize=True)*100\n"
   ]
  },
  {
   "cell_type": "code",
   "execution_count": 11,
   "id": "2621825c",
   "metadata": {},
   "outputs": [
    {
     "data": {
      "text/plain": [
       "No                   98.10\n",
       "Prefer not to say     0.97\n",
       "Yes                   0.93\n",
       "Name: Veteran, dtype: float64"
      ]
     },
     "execution_count": 11,
     "metadata": {},
     "output_type": "execute_result"
    }
   ],
   "source": [
    "df02['Veteran'].value_counts(normalize=True)*100"
   ]
  },
  {
   "cell_type": "code",
   "execution_count": 12,
   "id": "fdf9ad9a",
   "metadata": {},
   "outputs": [
    {
     "data": {
      "text/plain": [
       "Canadian     42.92\n",
       "Indian       10.18\n",
       "American      9.77\n",
       "Ukrainian     2.29\n",
       "Korean        2.23\n",
       "             ...  \n",
       "Scottish      0.05\n",
       "Malian        0.05\n",
       "Austrian      0.04\n",
       "Belgian       0.04\n",
       "Spanish       0.03\n",
       "Name: Nationality, Length: 112, dtype: float64"
      ]
     },
     "execution_count": 12,
     "metadata": {},
     "output_type": "execute_result"
    }
   ],
   "source": [
    "df02['Nationality'].value_counts(normalize=True)*100"
   ]
  },
  {
   "cell_type": "code",
   "execution_count": null,
   "id": "f61eb72c",
   "metadata": {},
   "outputs": [],
   "source": []
  }
 ],
 "metadata": {
  "kernelspec": {
   "display_name": "Python 3 (ipykernel)",
   "language": "python",
   "name": "python3"
  },
  "language_info": {
   "codemirror_mode": {
    "name": "ipython",
    "version": 3
   },
   "file_extension": ".py",
   "mimetype": "text/x-python",
   "name": "python",
   "nbconvert_exporter": "python",
   "pygments_lexer": "ipython3",
   "version": "3.9.13"
  }
 },
 "nbformat": 4,
 "nbformat_minor": 5
}
